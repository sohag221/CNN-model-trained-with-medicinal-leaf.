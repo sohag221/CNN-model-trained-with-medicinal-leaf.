{
  "metadata": {
    "kernelspec": {
      "language": "python",
      "display_name": "Python 3",
      "name": "python3"
    },
    "language_info": {
      "name": "python",
      "version": "3.11.13",
      "mimetype": "text/x-python",
      "codemirror_mode": {
        "name": "ipython",
        "version": 3
      },
      "pygments_lexer": "ipython3",
      "nbconvert_exporter": "python",
      "file_extension": ".py"
    },
    "kaggle": {
      "accelerator": "nvidiaTeslaT4",
      "dataSources": [
        {
          "sourceId": 11980945,
          "sourceType": "datasetVersion",
          "datasetId": 7534915
        }
      ],
      "dockerImageVersionId": 31090,
      "isInternetEnabled": true,
      "language": "python",
      "sourceType": "notebook",
      "isGpuEnabled": true
    },
    "colab": {
      "name": "notebookbe067d3065",
      "provenance": [],
      "include_colab_link": true
    }
  },
  "nbformat_minor": 0,
  "nbformat": 4,
  "cells": [
    {
      "cell_type": "markdown",
      "metadata": {
        "id": "view-in-github",
        "colab_type": "text"
      },
      "source": [
        "<a href=\"https://colab.research.google.com/github/sohag221/CNN-model-trained-with-medicinal-leaf./blob/main/EfficientNetB3.ipynb\" target=\"_parent\"><img src=\"https://colab.research.google.com/assets/colab-badge.svg\" alt=\"Open In Colab\"/></a>"
      ]
    },
    {
      "source": [
        "# IMPORTANT: RUN THIS CELL IN ORDER TO IMPORT YOUR KAGGLE DATA SOURCES,\n",
        "# THEN FEEL FREE TO DELETE THIS CELL.\n",
        "# NOTE: THIS NOTEBOOK ENVIRONMENT DIFFERS FROM KAGGLE'S PYTHON\n",
        "# ENVIRONMENT SO THERE MAY BE MISSING LIBRARIES USED BY YOUR\n",
        "# NOTEBOOK.\n",
        "import kagglehub\n",
        "mdsohag2165_bd_medicinal_plant_path = kagglehub.dataset_download('mdsohag2165/bd-medicinal-plant')\n",
        "\n",
        "print('Data source import complete.')\n"
      ],
      "metadata": {
        "id": "uCganukl5Uu9"
      },
      "cell_type": "code",
      "outputs": [],
      "execution_count": null
    },
    {
      "cell_type": "code",
      "source": [
        "import os, time, copy, shutil, random\n",
        "import numpy as np\n",
        "import pandas as pd\n",
        "import matplotlib.pyplot as plt\n",
        "import seaborn as sns\n",
        "import torch\n",
        "import torch.nn as nn\n",
        "from torch.utils.data import DataLoader\n",
        "from torchvision import datasets, transforms\n",
        "from sklearn.metrics import classification_report, confusion_matrix\n",
        "from tqdm import tqdm\n",
        "import timm\n",
        "\n",
        "device = torch.device(\"cuda\" if torch.cuda.is_available() else \"cpu\")\n"
      ],
      "metadata": {
        "_uuid": "8f2839f25d086af736a60e9eeb907d3b93b6e0e5",
        "_cell_guid": "b1076dfc-b9ad-4769-8c92-a6c4dae69d19",
        "trusted": true,
        "execution": {
          "iopub.status.busy": "2025-07-31T18:06:03.942692Z",
          "iopub.execute_input": "2025-07-31T18:06:03.943309Z",
          "iopub.status.idle": "2025-07-31T18:06:15.127952Z",
          "shell.execute_reply.started": "2025-07-31T18:06:03.943286Z",
          "shell.execute_reply": "2025-07-31T18:06:15.127363Z"
        },
        "id": "vjVpfxge5Uu_"
      },
      "outputs": [],
      "execution_count": null
    },
    {
      "cell_type": "code",
      "source": [
        "# Define paths\n",
        "SOURCE_DIR = \"/kaggle/input/bd-medicinal-plant/Medicinal Plant BD\"\n",
        "DEST_DIR = \"/kaggle/working/medicinal_split\"\n",
        "os.makedirs(DEST_DIR, exist_ok=True)\n",
        "\n",
        "# Ratios\n",
        "train_ratio, val_ratio, test_ratio = 0.7, 0.15, 0.15\n",
        "\n",
        "# Create folders\n",
        "for split in ['train', 'val', 'test']:\n",
        "    os.makedirs(os.path.join(DEST_DIR, split), exist_ok=True)\n",
        "\n",
        "# Split images per class\n",
        "for class_name in os.listdir(SOURCE_DIR):\n",
        "    class_path = os.path.join(SOURCE_DIR, class_name)\n",
        "    if not os.path.isdir(class_path): continue\n",
        "    images = os.listdir(class_path)\n",
        "    random.shuffle(images)\n",
        "    n_total = len(images)\n",
        "    n_train = int(n_total * train_ratio)\n",
        "    n_val = int(n_total * val_ratio)\n",
        "\n",
        "    train_imgs = images[:n_train]\n",
        "    val_imgs = images[n_train:n_train+n_val]\n",
        "    test_imgs = images[n_train+n_val:]\n",
        "\n",
        "    for split, split_imgs in zip(['train', 'val', 'test'], [train_imgs, val_imgs, test_imgs]):\n",
        "        split_dir = os.path.join(DEST_DIR, split, class_name)\n",
        "        os.makedirs(split_dir, exist_ok=True)\n",
        "        for img in tqdm(split_imgs, desc=f\"{split} - {class_name}\"):\n",
        "            shutil.copy2(os.path.join(class_path, img), os.path.join(split_dir, img))\n"
      ],
      "metadata": {
        "trusted": true,
        "execution": {
          "iopub.status.busy": "2025-07-31T18:06:15.129066Z",
          "iopub.execute_input": "2025-07-31T18:06:15.129314Z",
          "iopub.status.idle": "2025-07-31T18:08:01.187673Z",
          "shell.execute_reply.started": "2025-07-31T18:06:15.129296Z",
          "shell.execute_reply": "2025-07-31T18:08:01.186985Z"
        },
        "id": "2n9jDl2C5Uu_"
      },
      "outputs": [],
      "execution_count": null
    },
    {
      "cell_type": "code",
      "source": [
        "IMG_SIZE = 300  # For EfficientNet-B3\n",
        "BATCH_SIZE = 24\n",
        "NUM_EPOCHS = 10\n",
        "PATIENCE = 5\n",
        "NUM_CLASSES = 10  # You have 10 folders/classes\n",
        "\n",
        "DATA_DIR = DEST_DIR\n",
        "PREFIX = \"/kaggle/working/efficientnetb3\"\n",
        "\n",
        "# Transforms\n",
        "train_tfms = transforms.Compose([\n",
        "    transforms.Resize((IMG_SIZE, IMG_SIZE)),\n",
        "    transforms.RandomHorizontalFlip(),\n",
        "    transforms.RandomRotation(10),\n",
        "    transforms.ToTensor(),\n",
        "    transforms.Normalize([0.485, 0.456, 0.406],\n",
        "                         [0.229, 0.224, 0.225])\n",
        "])\n",
        "val_tfms = transforms.Compose([\n",
        "    transforms.Resize((IMG_SIZE, IMG_SIZE)),\n",
        "    transforms.ToTensor(),\n",
        "    transforms.Normalize([0.485, 0.456, 0.406],\n",
        "                         [0.229, 0.224, 0.225])\n",
        "])\n"
      ],
      "metadata": {
        "trusted": true,
        "execution": {
          "iopub.status.busy": "2025-07-31T18:08:01.188544Z",
          "iopub.execute_input": "2025-07-31T18:08:01.189258Z",
          "iopub.status.idle": "2025-07-31T18:08:01.194472Z",
          "shell.execute_reply.started": "2025-07-31T18:08:01.189232Z",
          "shell.execute_reply": "2025-07-31T18:08:01.193788Z"
        },
        "id": "V2fIPnD65UvA"
      },
      "outputs": [],
      "execution_count": null
    },
    {
      "cell_type": "code",
      "source": [
        "train_ds = datasets.ImageFolder(os.path.join(DATA_DIR, \"train\"), transform=train_tfms)\n",
        "val_ds   = datasets.ImageFolder(os.path.join(DATA_DIR, \"val\"), transform=val_tfms)\n",
        "test_ds  = datasets.ImageFolder(os.path.join(DATA_DIR, \"test\"), transform=val_tfms)\n",
        "\n",
        "train_loader = DataLoader(train_ds, batch_size=BATCH_SIZE, shuffle=True)\n",
        "val_loader   = DataLoader(val_ds, batch_size=BATCH_SIZE)\n",
        "test_loader  = DataLoader(test_ds, batch_size=BATCH_SIZE)\n",
        "\n",
        "class_names = train_ds.classes\n",
        "print(\"Classes:\", class_names)\n"
      ],
      "metadata": {
        "trusted": true,
        "execution": {
          "iopub.status.busy": "2025-07-31T18:08:01.195268Z",
          "iopub.execute_input": "2025-07-31T18:08:01.195489Z",
          "iopub.status.idle": "2025-07-31T18:08:01.232768Z",
          "shell.execute_reply.started": "2025-07-31T18:08:01.195473Z",
          "shell.execute_reply": "2025-07-31T18:08:01.232259Z"
        },
        "id": "9c-gb8WB5UvA"
      },
      "outputs": [],
      "execution_count": null
    },
    {
      "cell_type": "code",
      "source": [
        "model = timm.create_model(\"efficientnet_b3\", pretrained=True, num_classes=NUM_CLASSES)\n",
        "model.to(device)\n",
        "\n",
        "criterion = nn.CrossEntropyLoss()\n",
        "optimizer = torch.optim.AdamW(model.parameters(), lr=1e-4, weight_decay=1e-2)\n"
      ],
      "metadata": {
        "trusted": true,
        "execution": {
          "iopub.status.busy": "2025-07-31T18:08:01.233947Z",
          "iopub.execute_input": "2025-07-31T18:08:01.234151Z",
          "iopub.status.idle": "2025-07-31T18:08:02.134277Z",
          "shell.execute_reply.started": "2025-07-31T18:08:01.234135Z",
          "shell.execute_reply": "2025-07-31T18:08:02.133698Z"
        },
        "id": "Yp4BiuZJ5UvA"
      },
      "outputs": [],
      "execution_count": null
    },
    {
      "cell_type": "code",
      "source": [
        "def train_model(model, criterion, optimizer, train_loader, val_loader, num_epochs=25, patience=5):\n",
        "    best_wts = copy.deepcopy(model.state_dict())\n",
        "    best_acc = 0.0\n",
        "    tr_loss, val_loss, tr_acc, val_acc = [], [], [], []\n",
        "    patience_cnt = 0\n",
        "\n",
        "    for epoch in range(num_epochs):\n",
        "        print(f\"\\nEpoch {epoch+1}/{num_epochs}\")\n",
        "        start = time.time()\n",
        "\n",
        "        # Training\n",
        "        model.train()\n",
        "        run_loss, run_correct = 0.0, 0\n",
        "        for x, y in tqdm(train_loader):\n",
        "            x, y = x.to(device), y.to(device)\n",
        "            optimizer.zero_grad()\n",
        "            out = model(x)\n",
        "            loss = criterion(out, y)\n",
        "            loss.backward()\n",
        "            optimizer.step()\n",
        "            run_loss += loss.item() * x.size(0)\n",
        "            run_correct += (out.argmax(1) == y).sum().item()\n",
        "        tr_loss.append(run_loss / len(train_loader.dataset))\n",
        "        tr_acc.append(run_correct / len(train_loader.dataset))\n",
        "\n",
        "        # Validation\n",
        "        model.eval()\n",
        "        run_loss, run_correct = 0.0, 0\n",
        "        with torch.no_grad():\n",
        "            for x, y in val_loader:\n",
        "                x, y = x.to(device), y.to(device)\n",
        "                out = model(x)\n",
        "                loss = criterion(out, y)\n",
        "                run_loss += loss.item() * x.size(0)\n",
        "                run_correct += (out.argmax(1) == y).sum().item()\n",
        "        val_loss.append(run_loss / len(val_loader.dataset))\n",
        "        val_acc.append(run_correct / len(val_loader.dataset))\n",
        "\n",
        "        print(f\"Train Loss {tr_loss[-1]:.4f} Acc {tr_acc[-1]:.4f}\")\n",
        "        print(f\"Val   Loss {val_loss[-1]:.4f} Acc {val_acc[-1]:.4f}\")\n",
        "        print(f\"Time Taken: {(time.time() - start):.1f}s\")\n",
        "\n",
        "        # Early stopping\n",
        "        if val_acc[-1] > best_acc:\n",
        "            best_acc = val_acc[-1]\n",
        "            best_wts = copy.deepcopy(model.state_dict())\n",
        "            patience_cnt = 0\n",
        "        else:\n",
        "            patience_cnt += 1\n",
        "            if patience_cnt >= patience:\n",
        "                print(\"Early stopping triggered.\")\n",
        "                break\n",
        "\n",
        "    model.load_state_dict(best_wts)\n",
        "    return model, tr_loss, val_loss, tr_acc, val_acc, best_acc\n"
      ],
      "metadata": {
        "trusted": true,
        "execution": {
          "iopub.status.busy": "2025-07-31T18:08:02.134906Z",
          "iopub.execute_input": "2025-07-31T18:08:02.135102Z",
          "iopub.status.idle": "2025-07-31T18:08:02.143615Z",
          "shell.execute_reply.started": "2025-07-31T18:08:02.135086Z",
          "shell.execute_reply": "2025-07-31T18:08:02.142858Z"
        },
        "id": "hvZvGGNQ5UvA"
      },
      "outputs": [],
      "execution_count": null
    },
    {
      "cell_type": "code",
      "source": [
        "model, tr_loss, val_loss, tr_acc, val_acc, best_val_acc = train_model(\n",
        "    model, criterion, optimizer, train_loader, val_loader,\n",
        "    NUM_EPOCHS, PATIENCE\n",
        ")\n"
      ],
      "metadata": {
        "trusted": true,
        "execution": {
          "iopub.status.busy": "2025-07-31T18:08:02.144369Z",
          "iopub.execute_input": "2025-07-31T18:08:02.144641Z",
          "iopub.status.idle": "2025-07-31T18:41:41.542789Z",
          "shell.execute_reply.started": "2025-07-31T18:08:02.144616Z",
          "shell.execute_reply": "2025-07-31T18:41:41.542182Z"
        },
        "id": "HsoafQ_x5UvB"
      },
      "outputs": [],
      "execution_count": null
    },
    {
      "cell_type": "code",
      "source": [
        "epochs = range(1, len(tr_loss)+1)\n",
        "fig, ax = plt.subplots(1, 2, figsize=(12,5))\n",
        "ax[0].plot(epochs, tr_loss, label=\"Train\"); ax[0].plot(epochs, val_loss, label=\"Val\")\n",
        "ax[0].set_title(\"Loss\"); ax[0].legend()\n",
        "ax[1].plot(epochs, tr_acc, label=\"Train\"); ax[1].plot(epochs, val_acc, label=\"Val\")\n",
        "ax[1].set_title(\"Accuracy\"); ax[1].legend()\n",
        "plt.tight_layout()\n",
        "plt.savefig(f\"{PREFIX}_curves.png\", dpi=300)\n",
        "plt.show()\n"
      ],
      "metadata": {
        "trusted": true,
        "execution": {
          "iopub.status.busy": "2025-07-31T18:42:14.256111Z",
          "iopub.execute_input": "2025-07-31T18:42:14.256719Z",
          "iopub.status.idle": "2025-07-31T18:42:15.131641Z",
          "shell.execute_reply.started": "2025-07-31T18:42:14.256697Z",
          "shell.execute_reply": "2025-07-31T18:42:15.130873Z"
        },
        "id": "bYX0jtrZ5UvB"
      },
      "outputs": [],
      "execution_count": null
    },
    {
      "cell_type": "code",
      "source": [
        "model.eval()\n",
        "test_probs, test_labels = [], []\n",
        "\n",
        "with torch.no_grad():\n",
        "    for x, y in test_loader:\n",
        "        x = x.to(device)\n",
        "        out = model(x)\n",
        "        probs = torch.softmax(out, dim=1)\n",
        "        test_probs.append(probs.cpu())\n",
        "        test_labels.extend(y.cpu().numpy())\n",
        "\n",
        "test_probs = torch.cat(test_probs).numpy()\n",
        "y_true = np.array(test_labels)\n",
        "y_pred = np.argmax(test_probs, axis=1)\n",
        "\n",
        "print(classification_report(y_true, y_pred, target_names=class_names, digits=4))\n"
      ],
      "metadata": {
        "trusted": true,
        "execution": {
          "iopub.status.busy": "2025-07-31T18:42:25.361269Z",
          "iopub.execute_input": "2025-07-31T18:42:25.361777Z",
          "iopub.status.idle": "2025-07-31T18:42:41.637738Z",
          "shell.execute_reply.started": "2025-07-31T18:42:25.361756Z",
          "shell.execute_reply": "2025-07-31T18:42:41.637148Z"
        },
        "id": "GaP06rHO5UvB"
      },
      "outputs": [],
      "execution_count": null
    },
    {
      "cell_type": "code",
      "source": [
        "cm = confusion_matrix(y_true, y_pred)\n",
        "cm_df = pd.DataFrame(cm, index=class_names, columns=class_names)\n",
        "plt.figure(figsize=(8,6))\n",
        "sns.heatmap(cm_df, annot=True, fmt=\"d\", cmap=\"Blues\", cbar_kws={'label': 'Image Count'})\n",
        "plt.title(\"Confusion Matrix\")\n",
        "plt.ylabel(\"True Label\")\n",
        "plt.xlabel(\"Predicted Label\")\n",
        "plt.tight_layout()\n",
        "plt.savefig(f\"{PREFIX}_cm_counts.png\", dpi=300)\n",
        "plt.show()\n"
      ],
      "metadata": {
        "trusted": true,
        "execution": {
          "iopub.status.busy": "2025-07-31T18:42:54.312683Z",
          "iopub.execute_input": "2025-07-31T18:42:54.313291Z",
          "iopub.status.idle": "2025-07-31T18:42:55.1957Z",
          "shell.execute_reply.started": "2025-07-31T18:42:54.313269Z",
          "shell.execute_reply": "2025-07-31T18:42:55.19509Z"
        },
        "id": "W2nyoqGK5UvB"
      },
      "outputs": [],
      "execution_count": null
    },
    {
      "cell_type": "code",
      "source": [
        "import os\n",
        "import torch\n",
        "from torchvision import transforms\n",
        "from PIL import Image\n",
        "import matplotlib.pyplot as plt\n",
        "\n",
        "# Load model\n",
        "\n",
        "model.eval()\n",
        "\n",
        "# Class names\n",
        "class_names = ['Bhibitaki', 'Candelabra plant', 'Chebulic Myrobalan', 'Gotu Kola',\n",
        "               'Holy Basil', 'Indian Borage', 'Lemongrass', 'Longevity Spinach',\n",
        "               'Madagascar Periwinkle', 'Neem Tree']\n",
        "\n",
        "# Transform (same as training)\n",
        "transform = transforms.Compose([\n",
        "    transforms.Resize((300, 300)),\n",
        "    transforms.ToTensor(),\n",
        "    transforms.Normalize([0.485, 0.456, 0.406],\n",
        "                         [0.229, 0.224, 0.225])\n",
        "])\n",
        "\n",
        "# Make sure you set the right device first\n",
        "device = torch.device(\"cuda\" if torch.cuda.is_available() else \"cpu\")\n",
        "model = model.to(device)\n",
        "model.eval()\n",
        "\n",
        "def predict_image(image_path):\n",
        "    image = Image.open(image_path).convert('RGB')\n",
        "    image_tensor = transform(image).unsqueeze(0).to(device)  # Move image to the same device\n",
        "    with torch.no_grad():\n",
        "        outputs = model(image_tensor)\n",
        "        _, predicted = torch.max(outputs, 1)\n",
        "    return class_names[predicted.item()], image\n",
        "\n",
        "\n",
        "# Folder with test images\n",
        "folder_path = '/kaggle/input/bd-medicinal-plant/Medicinal Plant BD/Bhibitaki'  # change as needed\n",
        "\n",
        "# Loop through all images in the folder\n",
        "image_files = [f for f in os.listdir(folder_path) if f.endswith(('.png', '.jpg', '.jpeg'))]\n",
        "\n",
        "# Predict and display results\n",
        "for i, image_file in enumerate(image_files[:5]):  # limit to first 5 images for display\n",
        "    image_path = os.path.join(folder_path, image_file)\n",
        "    prediction, image = predict_image(image_path)\n",
        "\n",
        "    plt.figure(figsize=(4, 4))\n",
        "    plt.imshow(image)\n",
        "    plt.title(f\"Predicted: {prediction}\")\n",
        "    plt.axis('off')\n",
        "    plt.show()\n"
      ],
      "metadata": {
        "trusted": true,
        "execution": {
          "iopub.status.busy": "2025-07-31T18:51:27.175378Z",
          "iopub.execute_input": "2025-07-31T18:51:27.176008Z",
          "iopub.status.idle": "2025-07-31T18:51:27.966187Z",
          "shell.execute_reply.started": "2025-07-31T18:51:27.175983Z",
          "shell.execute_reply": "2025-07-31T18:51:27.965282Z"
        },
        "id": "on6zMAG85UvB"
      },
      "outputs": [],
      "execution_count": null
    },
    {
      "cell_type": "code",
      "source": [
        "# Save model state dictionary\n",
        "torch.save(model.state_dict(), 'efficientnet_b3_model.pth')\n"
      ],
      "metadata": {
        "trusted": true,
        "execution": {
          "iopub.status.busy": "2025-07-31T18:58:11.237075Z",
          "iopub.execute_input": "2025-07-31T18:58:11.237613Z",
          "iopub.status.idle": "2025-07-31T18:58:11.342053Z",
          "shell.execute_reply.started": "2025-07-31T18:58:11.237593Z",
          "shell.execute_reply": "2025-07-31T18:58:11.341279Z"
        },
        "id": "p2rgAj6f5UvC"
      },
      "outputs": [],
      "execution_count": null
    }
  ]
}